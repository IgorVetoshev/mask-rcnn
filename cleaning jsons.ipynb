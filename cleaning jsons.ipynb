{
 "cells": [
  {
   "cell_type": "code",
   "execution_count": 1,
   "metadata": {},
   "outputs": [],
   "source": [
    "import pickle\n",
    "import json"
   ]
  },
  {
   "cell_type": "code",
   "execution_count": 3,
   "metadata": {},
   "outputs": [],
   "source": [
    "with open(\"./jsons/train_multiclass.json\", \"r\") as file:\n",
    "    train_json = json.load(file)"
   ]
  },
  {
   "cell_type": "code",
   "execution_count": 21,
   "metadata": {},
   "outputs": [
    {
     "data": {
      "text/plain": [
       "[425, 526, 674, 1020, 1021, 956, 868, 829, 816, 659, 595, 564, 528, 457]"
      ]
     },
     "execution_count": 21,
     "metadata": {},
     "output_type": "execute_result"
    }
   ],
   "source": [
    "train_json['2.jpg94448']['regions'][0]['shape_attributes']['all_points_x']"
   ]
  },
  {
   "cell_type": "code",
   "execution_count": 22,
   "metadata": {},
   "outputs": [],
   "source": [
    "keys = train_json.keys()\n",
    "\n",
    "for key in keys:\n",
    "    all_elements = train_json[key]['regions']\n",
    "    for i in range(len(all_elements)):\n",
    "        x_list = all_elements[i]['shape_attributes']['all_points_x']\n",
    "        y_list = all_elements[i]['shape_attributes']['all_points_y']\n",
    "        \n",
    "        x_list[-1] = x_list[0]\n",
    "        y_list[-1] = y_list[0]"
   ]
  },
  {
   "cell_type": "code",
   "execution_count": 27,
   "metadata": {},
   "outputs": [],
   "source": [
    "with open(\"./jsons/val_multiclass.json\", \"r\") as file:\n",
    "    val_json = json.load(file)"
   ]
  },
  {
   "cell_type": "code",
   "execution_count": 28,
   "metadata": {},
   "outputs": [],
   "source": [
    "keys = val_json.keys()\n",
    "\n",
    "for key in keys:\n",
    "    all_elements = val_json[key]['regions']\n",
    "    for i in range(len(all_elements)):\n",
    "        x_list = all_elements[i]['shape_attributes']['all_points_x']\n",
    "        y_list = all_elements[i]['shape_attributes']['all_points_y']\n",
    "        \n",
    "        x_list[-1] = x_list[0]\n",
    "        y_list[-1] = y_list[0]"
   ]
  },
  {
   "cell_type": "code",
   "execution_count": 29,
   "metadata": {},
   "outputs": [
    {
     "data": {
      "text/plain": [
       "[425, 526, 674, 1020, 1021, 956, 868, 829, 816, 659, 595, 564, 528, 425]"
      ]
     },
     "execution_count": 29,
     "metadata": {},
     "output_type": "execute_result"
    }
   ],
   "source": [
    "train_json['2.jpg94448']['regions'][0]['shape_attributes']['all_points_x']"
   ]
  },
  {
   "cell_type": "code",
   "execution_count": 31,
   "metadata": {},
   "outputs": [],
   "source": [
    "with open('./jsons/train_multiclass_v1.json', 'w') as f:\n",
    "    json.dump(train_json, f)\n",
    "\n",
    "with open('./jsons/val_multiclass_v1.json', 'w') as f:\n",
    "    json.dump(val_json, f)"
   ]
  },
  {
   "cell_type": "code",
   "execution_count": null,
   "metadata": {},
   "outputs": [],
   "source": []
  }
 ],
 "metadata": {
  "kernelspec": {
   "display_name": "Python 3",
   "language": "python",
   "name": "python3"
  },
  "language_info": {
   "codemirror_mode": {
    "name": "ipython",
    "version": 3
   },
   "file_extension": ".py",
   "mimetype": "text/x-python",
   "name": "python",
   "nbconvert_exporter": "python",
   "pygments_lexer": "ipython3",
   "version": "3.7.6"
  }
 },
 "nbformat": 4,
 "nbformat_minor": 4
}
