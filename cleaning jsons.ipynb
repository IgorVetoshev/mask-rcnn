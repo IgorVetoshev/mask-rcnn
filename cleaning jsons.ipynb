{
 "cells": [
  {
   "cell_type": "code",
   "execution_count": 33,
   "metadata": {},
   "outputs": [],
   "source": [
    "import pickle\n",
    "import json\n",
    "import os"
   ]
  },
  {
   "cell_type": "code",
   "execution_count": 3,
   "metadata": {},
   "outputs": [],
   "source": [
    "with open(\"./jsons/train_multiclass.json\", \"r\") as file:\n",
    "    train_json = json.load(file)"
   ]
  },
  {
   "cell_type": "code",
   "execution_count": 21,
   "metadata": {},
   "outputs": [
    {
     "data": {
      "text/plain": [
       "[425, 526, 674, 1020, 1021, 956, 868, 829, 816, 659, 595, 564, 528, 457]"
      ]
     },
     "execution_count": 21,
     "metadata": {},
     "output_type": "execute_result"
    }
   ],
   "source": [
    "train_json['2.jpg94448']['regions'][0]['shape_attributes']['all_points_x']"
   ]
  },
  {
   "cell_type": "code",
   "execution_count": 22,
   "metadata": {},
   "outputs": [],
   "source": [
    "keys = train_json.keys()\n",
    "\n",
    "for key in keys:\n",
    "    all_elements = train_json[key]['regions']\n",
    "    for i in range(len(all_elements)):\n",
    "        x_list = all_elements[i]['shape_attributes']['all_points_x']\n",
    "        y_list = all_elements[i]['shape_attributes']['all_points_y']\n",
    "        \n",
    "        x_list[-1] = x_list[0]\n",
    "        y_list[-1] = y_list[0]"
   ]
  },
  {
   "cell_type": "code",
   "execution_count": 27,
   "metadata": {},
   "outputs": [],
   "source": [
    "with open(\"./jsons/val_multiclass.json\", \"r\") as file:\n",
    "    val_json = json.load(file)"
   ]
  },
  {
   "cell_type": "code",
   "execution_count": 28,
   "metadata": {},
   "outputs": [],
   "source": [
    "keys = val_json.keys()\n",
    "\n",
    "for key in keys:\n",
    "    all_elements = val_json[key]['regions']\n",
    "    for i in range(len(all_elements)):\n",
    "        x_list = all_elements[i]['shape_attributes']['all_points_x']\n",
    "        y_list = all_elements[i]['shape_attributes']['all_points_y']\n",
    "        \n",
    "        x_list[-1] = x_list[0]\n",
    "        y_list[-1] = y_list[0]"
   ]
  },
  {
   "cell_type": "code",
   "execution_count": 29,
   "metadata": {},
   "outputs": [
    {
     "data": {
      "text/plain": [
       "[425, 526, 674, 1020, 1021, 956, 868, 829, 816, 659, 595, 564, 528, 425]"
      ]
     },
     "execution_count": 29,
     "metadata": {},
     "output_type": "execute_result"
    }
   ],
   "source": [
    "train_json['2.jpg94448']['regions'][0]['shape_attributes']['all_points_x']"
   ]
  },
  {
   "cell_type": "code",
   "execution_count": 31,
   "metadata": {},
   "outputs": [],
   "source": [
    "with open('./jsons/train_multiclass_v1.json', 'w') as f:\n",
    "    json.dump(train_json, f)\n",
    "\n",
    "with open('./jsons/val_multiclass_v1.json', 'w') as f:\n",
    "    json.dump(val_json, f)"
   ]
  },
  {
   "cell_type": "code",
   "execution_count": 55,
   "metadata": {},
   "outputs": [],
   "source": [
    "annotations = json.load(open(os.path.join('dataset\\\\', 'train' + \"_multiclass.json\")))\n",
    "# print(annotations1)\n",
    "annotations = list(annotations.values())  # don't need the dict keys\n",
    "\n",
    "# The VIA tool saves images in the JSON even if they don't have any\n",
    "# annotations. Skip unannotated images.\n",
    "annotations = [a for a in annotations if a['regions']]\n",
    "\n",
    "#print(annotations)\n",
    "\n",
    "#class_nums = {'rear_bumper': 1, 'front_bumper': 2, 'headlamp': 3, 'hood': 4, 'door': 5}\n",
    "\n",
    "# Add images\n",
    "for a in annotations:\n",
    "    # print(a)\n",
    "    # Get the x, y coordinaets of points of the polygons that make up\n",
    "    # the outline of each object instance. There are stores in the\n",
    "    # shape_attributes (see json format above)\n",
    "    #for r in a['regions']:\n",
    "        #polygons = [{'all_points_x': r['shape_attributes']['all_points_x'], 'all_points_y': r['shape_attributes']['all_points_y']}]\n",
    "    polygons = [r['shape_attributes'] for r in a['regions']]\n",
    "    objects = [s['region_attributes'] for s in a['regions']]"
   ]
  },
  {
   "cell_type": "code",
   "execution_count": 52,
   "metadata": {},
   "outputs": [
    {
     "data": {
      "text/plain": [
       "dict_keys(['0'])"
      ]
     },
     "execution_count": 52,
     "metadata": {},
     "output_type": "execute_result"
    }
   ],
   "source": [
    "annotations[0]['regions'].keys()"
   ]
  },
  {
   "cell_type": "code",
   "execution_count": 43,
   "metadata": {},
   "outputs": [
    {
     "data": {
      "text/plain": [
       "{'0': {'shape_attributes': {'name': 'polygon',\n",
       "   'all_points_x': [492,\n",
       "    364,\n",
       "    323,\n",
       "    352,\n",
       "    352,\n",
       "    326,\n",
       "    326,\n",
       "    299,\n",
       "    311,\n",
       "    326,\n",
       "    512,\n",
       "    518,\n",
       "    539,\n",
       "    539,\n",
       "    554,\n",
       "    580,\n",
       "    646,\n",
       "    672,\n",
       "    746,\n",
       "    856,\n",
       "    871,\n",
       "    885,\n",
       "    894,\n",
       "    1202,\n",
       "    1919,\n",
       "    2114,\n",
       "    2165,\n",
       "    2126,\n",
       "    2135,\n",
       "    2082,\n",
       "    1892,\n",
       "    1836,\n",
       "    1469,\n",
       "    924,\n",
       "    835,\n",
       "    654,\n",
       "    489,\n",
       "    468,\n",
       "    409,\n",
       "    382,\n",
       "    379,\n",
       "    432,\n",
       "    423,\n",
       "    492],\n",
       "   'all_points_y': [521,\n",
       "    699,\n",
       "    805,\n",
       "    817,\n",
       "    853,\n",
       "    924,\n",
       "    959,\n",
       "    1184,\n",
       "    1270,\n",
       "    1303,\n",
       "    1321,\n",
       "    1291,\n",
       "    1270,\n",
       "    1282,\n",
       "    1282,\n",
       "    1199,\n",
       "    1202,\n",
       "    1253,\n",
       "    1255,\n",
       "    1300,\n",
       "    1315,\n",
       "    1321,\n",
       "    1335,\n",
       "    1356,\n",
       "    1229,\n",
       "    1176,\n",
       "    805,\n",
       "    740,\n",
       "    646,\n",
       "    521,\n",
       "    163,\n",
       "    136,\n",
       "    95,\n",
       "    71,\n",
       "    95,\n",
       "    299,\n",
       "    269,\n",
       "    341,\n",
       "    320,\n",
       "    335,\n",
       "    385,\n",
       "    429,\n",
       "    483,\n",
       "    521]},\n",
       "  'region_attributes': {'name': 'total'}}}"
      ]
     },
     "execution_count": 43,
     "metadata": {},
     "output_type": "execute_result"
    }
   ],
   "source": [
    "annotations[0]['regions']"
   ]
  },
  {
   "cell_type": "code",
   "execution_count": 57,
   "metadata": {},
   "outputs": [
    {
     "data": {
      "text/plain": [
       "[{'name': 'polygon',\n",
       "  'all_points_x': [71, 113, 108, 62, 61, 62],\n",
       "  'all_points_y': [457, 460, 579, 579, 564, 516]},\n",
       " {'name': 'polygon',\n",
       "  'all_points_x': [370, 457, 480, 438, 359],\n",
       "  'all_points_y': [476, 486, 609, 622, 612]},\n",
       " {'name': 'polygon',\n",
       "  'all_points_x': [600, 639, 669, 681, 690, 669, 892, 915, 893, 875, 720],\n",
       "  'all_points_y': [463, 623, 615, 649, 723, 790, 675, 568, 464, 428, 443]},\n",
       " {'name': 'polygon',\n",
       "  'all_points_x': [581,\n",
       "   499,\n",
       "   485,\n",
       "   399,\n",
       "   71,\n",
       "   58,\n",
       "   42,\n",
       "   69,\n",
       "   87,\n",
       "   91,\n",
       "   101,\n",
       "   152,\n",
       "   221,\n",
       "   336,\n",
       "   389,\n",
       "   539,\n",
       "   560,\n",
       "   563],\n",
       "  'all_points_y': [655,\n",
       "   674,\n",
       "   638,\n",
       "   651,\n",
       "   594,\n",
       "   594,\n",
       "   636,\n",
       "   681,\n",
       "   725,\n",
       "   745,\n",
       "   755,\n",
       "   772,\n",
       "   787,\n",
       "   811,\n",
       "   820,\n",
       "   816,\n",
       "   720,\n",
       "   690]}]"
      ]
     },
     "execution_count": 57,
     "metadata": {},
     "output_type": "execute_result"
    }
   ],
   "source": [
    "polygons"
   ]
  },
  {
   "cell_type": "code",
   "execution_count": null,
   "metadata": {},
   "outputs": [],
   "source": []
  }
 ],
 "metadata": {
  "kernelspec": {
   "display_name": "Python 3",
   "language": "python",
   "name": "python3"
  },
  "language_info": {
   "codemirror_mode": {
    "name": "ipython",
    "version": 3
   },
   "file_extension": ".py",
   "mimetype": "text/x-python",
   "name": "python",
   "nbconvert_exporter": "python",
   "pygments_lexer": "ipython3",
   "version": "3.7.6"
  }
 },
 "nbformat": 4,
 "nbformat_minor": 4
}
